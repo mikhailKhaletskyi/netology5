{
 "cells": [
  {
   "cell_type": "code",
   "execution_count": 53,
   "id": "cdf5852b",
   "metadata": {},
   "outputs": [],
   "source": [
    "import json\n",
    "i = 0\n",
    "f = open('purchase_log.txt', 'r', encoding = \"utf-8\")\n",
    "\n",
    "content = f.readlines()\n",
    "\n",
    "f.close()\n",
    "purchases = {}\n",
    "\n",
    "for line in content:\n",
    "    line = line.strip()\n",
    "    dict_ = json.loads(line)\n",
    "    values_list = list(dict.values(dict_))\n",
    "    purchases[values_list[0]] = values_list[1]\n",
    "    \n",
    "del(purchases['user_id'])\n",
    "purchases\n",
    "    \n",
    "with open('visit_log.csv', 'r') as s:\n",
    "    with open('funnel.csv', 'w') as r:\n",
    "        for line in s:\n",
    "            line = line.strip().split(',')\n",
    "            if line[0] in purchases:\n",
    "                line.append(purchases[line[0]])\n",
    "                r.write(\", \".join(line)+\"\\n\")\n",
    "            else:\n",
    "                continue\n",
    "        r.close()\n",
    "    s.close()"
   ]
  }
 ],
 "metadata": {
  "kernelspec": {
   "display_name": "Python 3 (ipykernel)",
   "language": "python",
   "name": "python3"
  },
  "language_info": {
   "codemirror_mode": {
    "name": "ipython",
    "version": 3
   },
   "file_extension": ".py",
   "mimetype": "text/x-python",
   "name": "python",
   "nbconvert_exporter": "python",
   "pygments_lexer": "ipython3",
   "version": "3.9.0"
  }
 },
 "nbformat": 4,
 "nbformat_minor": 5
}
